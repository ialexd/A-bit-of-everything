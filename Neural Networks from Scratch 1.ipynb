{
 "cells": [
  {
   "cell_type": "code",
   "execution_count": 1,
   "metadata": {},
   "outputs": [],
   "source": [
    "import numpy as np \n",
    "import pandas as pd\n",
    "import scipy as sp\n",
    "import matplotlib.pyplot as plt"
   ]
  },
  {
   "cell_type": "code",
   "execution_count": 3,
   "metadata": {},
   "outputs": [],
   "source": [
    "import seaborn as sns"
   ]
  },
  {
   "cell_type": "markdown",
   "metadata": {},
   "source": [
    "$$y_{j} = g\\left(\\sum_{i = 0}^{m}w_{ij}x_{i}\\right)=\\begin{cases}1 &  g()>0\\\\b &  g() \\leq 0\\end{cases}$$"
   ]
  },
  {
   "cell_type": "markdown",
   "metadata": {},
   "source": [
    "Activaton:\n",
    "$$\\sum_{i = 0}^{m}w_{ij}x_{i} =  WX$$"
   ]
  },
  {
   "cell_type": "markdown",
   "metadata": {},
   "source": [
    "\n",
    "Updating the weights: \n",
    "$$ w_{ij} \\rightarrow w_{ij}-\\eta\\left(y_{j}-t_{j}\\right)x_{i} $$\n",
    "$$W \\rightarrow W - \\eta X^{t}(Y-T)$$"
   ]
  },
  {
   "cell_type": "markdown",
   "metadata": {},
   "source": []
  },
  {
   "cell_type": "code",
   "execution_count": 97,
   "metadata": {},
   "outputs": [],
   "source": [
    "class pcn:\n",
    "    \"\"\" A basic Perceptron\"\"\"\n",
    "    def __init__(self,inputs,targets):\n",
    "        \"\"\" Constructor \"\"\"\n",
    "        if np.ndim(inputs)>1:\n",
    "            self.nIn = np.shape(inputs)[1]\n",
    "        else: \n",
    "            self.nIn = 1\n",
    "        if np.ndim(targets)>1:\n",
    "            self.nOut = np.shape(targets)[1]\n",
    "        else:\n",
    "            self.nOut = 1\n",
    "\n",
    "        self.nData = np.shape(inputs)[0]\n",
    "        # Initialise network\n",
    "        self.weights = np.random.rand(self.nIn+1,self.nOut)*0.1-0.05\n",
    "        \n",
    "    def accuracy(targets,activations):\n",
    "        acc = 0\n",
    "        for a,b in zip(targets,activations):\n",
    "            if a == b:\n",
    "                acc += 1\n",
    "        return 100*(acc/len(targets))    \n",
    "        \n",
    "    def pcnfwd(self,inputs):\n",
    "        \"\"\" Run the network forward \"\"\"\n",
    "        # Compute activations\n",
    "        activations =  np.dot(inputs,self.weights)\n",
    "\n",
    "        # Threshold the activations\n",
    "        return np.where(activations>0,1,0)        \n",
    "\n",
    "    def pcntrain(self,inputs,targets,eta,nIterations,press = 75):\n",
    "        \"\"\" Train the thing \"\"\"\t\n",
    "        # Add the inputs that match the bias node\n",
    "        inputs = np.concatenate((inputs,-np.ones([self.nData,1])),axis=1)\n",
    "        # Training\n",
    "        change = range(self.nData)\n",
    "\n",
    "        for n in range(nIterations):\n",
    "            self.activations = self.pcnfwd(inputs)\n",
    "            self.weights -= eta*np.dot(np.transpose(inputs),self.activations-targets)\n",
    "            acc = accuracy(targets,self.activations)\n",
    "            \n",
    "            \n",
    "            print('Iteration:',n)\n",
    "            print('Weights:''\\n',self.weights)\n",
    "            print('Results:''\\n',self.activations)\n",
    "            print('Accuracy:',acc,'%')\n",
    "            print('       ')\n",
    "            \n",
    "            if acc >= press:\n",
    "                break\n",
    "            \n",
    "            # Randomise order of inputs\n",
    "            #np.random.shuffle(change)\n",
    "            #inputs = inputs[change,:]\n",
    "            #targets = targets[change,:]\n",
    "\n",
    "        #return self.weights\n",
    "\n",
    "\n",
    "\n",
    "\n"
   ]
  },
  {
   "cell_type": "markdown",
   "metadata": {},
   "source": [
    "Inputs logical OR:\n",
    "$$I=\\begin{bmatrix}0 & 0 \\\\0 & 0  \\\\1&0 \\\\1&1 \\end{bmatrix}$$\n",
    "Targets:\n",
    "$$ T=\\begin{bmatrix}0  \\\\1  \\\\1 \\\\1 \\end{bmatrix}$$"
   ]
  },
  {
   "cell_type": "code",
   "execution_count": 22,
   "metadata": {},
   "outputs": [],
   "source": [
    "I = [[0,0],[0,1],[1,0],[1,1]] #N+1xM(+1 by the bias) #Inputs\n",
    "T = [[0],[1],[1],[1]]         #1XM  \n",
    "#weight dimension = Inputs dim                       #Target"
   ]
  },
  {
   "cell_type": "code",
   "execution_count": 78,
   "metadata": {},
   "outputs": [],
   "source": [
    "T1 = [[0],[1],[1],[1]]"
   ]
  },
  {
   "cell_type": "code",
   "execution_count": 79,
   "metadata": {},
   "outputs": [],
   "source": [
    "def accuracy(targets, activation):\n",
    "    acc = 0\n",
    "    for a,b in zip(targets,activation):\n",
    "        if a == b:\n",
    "            acc += 1\n",
    "    return 100*(acc/len(targets))"
   ]
  },
  {
   "cell_type": "code",
   "execution_count": 80,
   "metadata": {},
   "outputs": [
    {
     "data": {
      "text/plain": [
       "100.0"
      ]
     },
     "execution_count": 80,
     "metadata": {},
     "output_type": "execute_result"
    }
   ],
   "source": [
    "accuracy(T,T1)"
   ]
  },
  {
   "cell_type": "code",
   "execution_count": null,
   "metadata": {},
   "outputs": [],
   "source": []
  },
  {
   "cell_type": "code",
   "execution_count": 13,
   "metadata": {},
   "outputs": [
    {
     "data": {
      "text/plain": [
       "array([[ 0.,  0., -1.],\n",
       "       [ 0.,  1., -1.],\n",
       "       [ 1.,  0., -1.],\n",
       "       [ 1.,  1., -1.]])"
      ]
     },
     "execution_count": 13,
     "metadata": {},
     "output_type": "execute_result"
    }
   ],
   "source": [
    "np.concatenate((I,-np.ones([4,1])),axis = 1)"
   ]
  },
  {
   "cell_type": "code",
   "execution_count": 98,
   "metadata": {},
   "outputs": [],
   "source": [
    "p = pcn(I,T)"
   ]
  },
  {
   "cell_type": "code",
   "execution_count": 99,
   "metadata": {},
   "outputs": [
    {
     "name": "stdout",
     "output_type": "stream",
     "text": [
      "Iteration: 0\n",
      "Weights:\n",
      " [[ 0.47912467]\n",
      " [ 0.49569571]\n",
      " [-0.73545629]]\n",
      "Results:\n",
      " [[0]\n",
      " [0]\n",
      " [0]\n",
      " [0]]\n",
      "Accuracy: 25.0 %\n",
      "       \n",
      "Iteration: 1\n",
      "Weights:\n",
      " [[ 0.47912467]\n",
      " [ 0.49569571]\n",
      " [-0.48545629]]\n",
      "Results:\n",
      " [[1]\n",
      " [1]\n",
      " [1]\n",
      " [1]]\n",
      "Accuracy: 75.0 %\n",
      "       \n",
      "Iteration: 2\n",
      "Weights:\n",
      " [[ 0.47912467]\n",
      " [ 0.49569571]\n",
      " [-0.23545629]]\n",
      "Results:\n",
      " [[1]\n",
      " [1]\n",
      " [1]\n",
      " [1]]\n",
      "Accuracy: 75.0 %\n",
      "       \n",
      "Iteration: 3\n",
      "Weights:\n",
      " [[0.47912467]\n",
      " [0.49569571]\n",
      " [0.01454371]]\n",
      "Results:\n",
      " [[1]\n",
      " [1]\n",
      " [1]\n",
      " [1]]\n",
      "Accuracy: 75.0 %\n",
      "       \n",
      "Iteration: 4\n",
      "Weights:\n",
      " [[0.47912467]\n",
      " [0.49569571]\n",
      " [0.01454371]]\n",
      "Results:\n",
      " [[0]\n",
      " [1]\n",
      " [1]\n",
      " [1]]\n",
      "Accuracy: 100.0 %\n",
      "       \n"
     ]
    }
   ],
   "source": [
    "p.pcntrain(I,T,0.25,6,press = 100)"
   ]
  },
  {
   "cell_type": "code",
   "execution_count": 100,
   "metadata": {},
   "outputs": [],
   "source": [
    "####"
   ]
  },
  {
   "cell_type": "markdown",
   "metadata": {},
   "source": [
    "Neurons :\n",
    "1.- Linear: $$ y_{j} = \\sum_{i} w_{ij}x_{i}$$\n",
    "2.- Logistic:\n",
    "3.- Softmax:"
   ]
  },
  {
   "cell_type": "markdown",
   "metadata": {},
   "source": [
    "Chain Rule:\n",
    "$$ \\frac{\\text{d}f\\left(u(x)\\right)}{\\text{d}x} = \\frac{\\text{d}f\\left(u(x)\\right)}{\\text{d}u(x)}\\frac{\\text{d}u(x)}{\\text{d}x} $$"
   ]
  },
  {
   "cell_type": "markdown",
   "metadata": {},
   "source": [
    "ACtivation function Sigmoid Function: $$ g(h) = \\frac{1}{1+exp(-\\beta h)}$$"
   ]
  },
  {
   "cell_type": "markdown",
   "metadata": {},
   "source": [
    "Activation Function Soft Max:\n",
    "$$ g(h_{k}) = \\frac{exp(h_{k})}{\\sum_{k=1}^{N}exp(h_{k})} $$"
   ]
  },
  {
   "cell_type": "code",
   "execution_count": 102,
   "metadata": {},
   "outputs": [],
   "source": [
    "class mlp:\n",
    "    \"\"\" A Multi-Layer Perceptron\"\"\"\n",
    "    \n",
    "    def __init__(self,inputs,targets,nhidden,beta=1,momentum=0.9,outtype='logistic'):\n",
    "        # Set up network size\n",
    "        self.ndata   = np.shape(inputs)[0]\n",
    "        self.nin     = np.shape(inputs)[1]\n",
    "        \n",
    "        self.nout    = np.shape(targets)[1]\n",
    "        self.nhidden = nhidden\n",
    "\n",
    "        self.beta     = beta\n",
    "        self.momentum = momentum\n",
    "        self.outtype  = outtype\n",
    "    \n",
    "        # Initialise network\n",
    "        self.weights1 = (np.random.rand(self.nin+1,self.nhidden)-0.5)*2/np.sqrt(self.nin)\n",
    "        self.weights2 = (np.random.rand(self.nhidden+1,self.nout)-0.5)*2/np.sqrt(self.nhidden)\n",
    "\n",
    "    def earlystopping(self,inputs,targets,valid,validtargets,eta,niterations=100):\n",
    "    \n",
    "        valid = np.concatenate((valid,-np.ones([np.shape(valid)[0],1])),axis=1)\n",
    "        \n",
    "        old_val_error1 = 100002\n",
    "        old_val_error2 = 100001\n",
    "        new_val_error  = 100000\n",
    "        \n",
    "        count = 0\n",
    "        while (((old_val_error1 - new_val_error) > 0.001) or ((old_val_error2 - old_val_error1)>0.001)):\n",
    "            count+=1\n",
    "            print (count)\n",
    "            self.mlptrain(inputs,targets,eta,niterations)\n",
    "            old_val_error2 = old_val_error1\n",
    "            old_val_error1 = new_val_error\n",
    "            validout = self.mlpfwd(valid)\n",
    "            new_val_error = 0.5*np.sum((validtargets-validout)**2)\n",
    "            \n",
    "        print (\"Stopped\", new_val_error,old_val_error1, old_val_error2)\n",
    "        return new_val_error\n",
    "\n",
    "    def mlptrain(self,inputs,targets,eta,niterations):\n",
    "        \"\"\" Train the thing \"\"\"    \n",
    "        # Add the inputs that match the bias node\n",
    "        inputs = np.concatenate((inputs,-np.ones((self.ndata,1))),axis=1)\n",
    "        change = range(self.ndata)\n",
    "    \n",
    "        updatew1 = np.zeros((np.shape(self.weights1)))\n",
    "        updatew2 = np.zeros((np.shape(self.weights2)))\n",
    "            \n",
    "        for n in range(niterations):\n",
    "    \n",
    "            self.outputs = self.mlpfwd(inputs)\n",
    "\n",
    "            error = 0.5*np.sum((self.outputs-targets)**2)\n",
    "            if (np.mod(n,100)==0):\n",
    "                print (\"Iteration: \",n, \" Error: \",error)    \n",
    "\n",
    "            # Different types of output neurons\n",
    "            if self.outtype == 'linear':\n",
    "                deltao = (self.outputs-targets)/self.ndata\n",
    "            elif self.outtype == 'logistic':\n",
    "                deltao = self.beta*(self.outputs-targets)*self.outputs*(1.0-self.outputs)\n",
    "            elif self.outtype == 'softmax':\n",
    "                deltao = (self.outputs-targets)*(self.outputs*(-self.outputs)+self.outputs)/self.ndata \n",
    "            else:\n",
    "                print (\"error\")\n",
    "            \n",
    "            deltah = self.hidden*self.beta*(1.0-self.hidden)*(np.dot(deltao,np.transpose(self.weights2)))\n",
    "                      \n",
    "            updatew1 = eta*(np.dot(np.transpose(inputs),deltah[:,:-1])) + self.momentum*updatew1\n",
    "            updatew2 = eta*(np.dot(np.transpose(self.hidden),deltao)) + self.momentum*updatew2\n",
    "            self.weights1 -= updatew1\n",
    "            self.weights2 -= updatew2\n",
    "                \n",
    "            # Randomise order of inputs (not necessary for matrix-based calculation)\n",
    "            #np.random.shuffle(change)\n",
    "            #inputs = inputs[change,:]\n",
    "            #targets = targets[change,:]\n",
    "            \n",
    "    def mlpfwd(self,inputs):\n",
    "        \"\"\" Run the network forward \"\"\"\n",
    "\n",
    "        self.hidden = np.dot(inputs,self.weights1);\n",
    "        self.hidden = 1.0/(1.0+np.exp(-self.beta*self.hidden))\n",
    "        self.hidden = np.concatenate((self.hidden,-np.ones((np.shape(inputs)[0],1))),axis=1)\n",
    "\n",
    "        outputs = np.dot(self.hidden,self.weights2)\n",
    "\n",
    "        # Different types of output neurons\n",
    "        if self.outtype == 'linear':\n",
    "            return outputs\n",
    "        elif self.outtype == 'logistic':\n",
    "            return 1.0/(1.0+np.exp(-self.beta*outputs))\n",
    "        elif self.outtype == 'softmax':\n",
    "            normalisers = np.sum(np.exp(outputs),axis=1)*np.ones((1,np.shape(outputs)[0]))\n",
    "            return np.transpose(np.transpose(np.exp(outputs))/normalisers)\n",
    "        else:\n",
    "            print (\"error\")\n",
    "\n"
   ]
  },
  {
   "cell_type": "code",
   "execution_count": null,
   "metadata": {},
   "outputs": [],
   "source": []
  },
  {
   "cell_type": "code",
   "execution_count": null,
   "metadata": {},
   "outputs": [],
   "source": []
  },
  {
   "cell_type": "code",
   "execution_count": 120,
   "metadata": {},
   "outputs": [],
   "source": [
    "x = np.linspace(0,1,40).reshape((1,40))\n",
    "\n",
    "t = np.sin(2*np.pi*x) + np.cos(4*np.pi*x) + np.random.randn(40)*0.2\n",
    "x = x.T\n",
    "t = t.T\n"
   ]
  },
  {
   "cell_type": "code",
   "execution_count": 121,
   "metadata": {},
   "outputs": [
    {
     "data": {
      "image/png": "[encoded data removed]",
      "text/plain": [
       "<Figure size 720x432 with 1 Axes>"
      ]
     },
     "metadata": {
      "needs_background": "light"
     },
     "output_type": "display_data"
    }
   ],
   "source": [
    "plt.figure(figsize = (10,6))\n",
    "plt.plot(x,t,'.-',color = 'black',markersize = 5)\n",
    "plt.title('$f(t) = sin2\\pi t + cos(4\\pi t)+c$')\n",
    "plt.xlabel('$t$',fontsize = 15)\n",
    "plt.ylabel('$f(t)$',fontsize = 15)\n",
    "plt.grid(True)\n",
    "plt.show()"
   ]
  },
  {
   "cell_type": "code",
   "execution_count": 122,
   "metadata": {},
   "outputs": [],
   "source": [
    "train = x[0::2,:]\n",
    "test = x[1::4,:]\n",
    "valid = x[3::4,:]\n",
    "traintarget = t[0::2,:]\n",
    "testtarget = t[1::4,:]\n",
    "validtarget = t[3::4,:]\n",
    "\n"
   ]
  },
  {
   "cell_type": "code",
   "execution_count": 125,
   "metadata": {},
   "outputs": [
    {
     "name": "stdout",
     "output_type": "stream",
     "text": [
      "Iteration:  0  Error:  8.280880554764751\n",
      "Iteration:  100  Error:  6.273256792625318\n"
     ]
    }
   ],
   "source": [
    "net = mlp(train,traintarget,3,outtype='linear')\n",
    "net.mlptrain(train,traintarget,0.25,101)\n"
   ]
  },
  {
   "cell_type": "code",
   "execution_count": null,
   "metadata": {},
   "outputs": [],
   "source": []
  }
 ],
 "metadata": {
  "kernelspec": {
   "display_name": "Python 3",
   "language": "python",
   "name": "python3"
  },
  "language_info": {
   "codemirror_mode": {
    "name": "ipython",
    "version": 3
   },
   "file_extension": ".py",
   "mimetype": "text/x-python",
   "name": "python",
   "nbconvert_exporter": "python",
   "pygments_lexer": "ipython3",
   "version": "3.6.7"
  }
 },
 "nbformat": 4,
 "nbformat_minor": 2
}
